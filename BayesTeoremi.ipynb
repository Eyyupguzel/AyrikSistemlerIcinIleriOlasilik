{
  "nbformat": 4,
  "nbformat_minor": 0,
  "metadata": {
    "colab": {
      "name": "BayesTeoremi.ipynb",
      "provenance": [],
      "collapsed_sections": [],
      "include_colab_link": true
    },
    "kernelspec": {
      "name": "python3",
      "display_name": "Python 3"
    }
  },
  "cells": [
    {
      "cell_type": "markdown",
      "metadata": {
        "id": "view-in-github",
        "colab_type": "text"
      },
      "source": [
        "<a href=\"https://colab.research.google.com/github/Eyyupguzel/AyrikSistemlerIcinIleriOlasilik/blob/main/BayesTeoremi.ipynb\" target=\"_parent\"><img src=\"https://colab.research.google.com/assets/colab-badge.svg\" alt=\"Open In Colab\"/></a>"
      ]
    },
    {
      "cell_type": "markdown",
      "metadata": {
        "id": "hKu6yFPeT3UG"
      },
      "source": [
        "**Soru: Bayes Teoremi**\n",
        "\n",
        "Bir okulda yangın çıktığı zaman alarm sisteminin çalışma olasılığı 0.99, yangın çıkmadığında alarm sisteminin çalışmama olasılığı 0.98 ve herhangi bir anda yangın çıkma olasılığı da 0.003’tür. \n",
        "\n",
        "Okuldaki alarm çalıştığına göre, yangın çıkma olasılığı nedir?\n",
        "\n",
        "**Çözüm:**\n",
        "\n",
        "A: Alarm Sisteminin Çalışması,  A': Alarm Sisteminin Çalışmaması,  B: Yagın çıkması, B': Yangın çıkmaması\n",
        "   \n",
        "P(B) = 0.003, P(B') = 0.997, P(A | B) = 0.99, P(A' | B') = 0.98, P(A | B') = 0.02\n",
        "\n",
        "\n",
        "Durum: Yangın çıktığında alarmın çalışması,   \n",
        "\n",
        "P(A|B)xP(B)= 0.99x0.003= 0.00297\n",
        "\n",
        "Örnek Uzay: Alarmın çalışması,\n",
        "\n",
        "P(A|B)xP(B)+P(A|B')xP(B')=  0.99x0.003+0.02x0.997= 0.02291\n",
        "\n",
        "Olasılık sonucu: Alarm çalıştığında yangın çıkma olasılığı,    \n",
        "\n",
        "P(B|A)= P(A|B)xP(B) / P(A|B)xP(B)+P(A|B')xP(B')= 0.12963771278917494\n",
        "\n",
        "**Açıklama:**\n",
        "\n",
        "P(B|A)= P(BnA)/P(A)= P(A|B)xP(B)/P(A)\n",
        "\n",
        "Verilen bilgilere göre yangın çıkma olasılığı P(B), yangın çıkmama olasılığı P'(B), yangın çıktığında alarmın çalışma olasılığı P(A|B) ve yangın çıkmadığında alarmın çalışma olasılığı P(A|B') hesaplanır.\n",
        "\n",
        "İstenilen durum, yangın çıktığında alarmın çalışma olasılığı P(A|B)xP(B)ve örnek uzay, alarmın çalışma durumu P(A|B)xP(B)+P(A|B')xP(B') şeklinde hesaplanır.\n",
        "\n",
        "Son olarak bayes teoremi ile olasılık sonucu, P(B|A)= P(A|B)xP(B) / P(A|B)xP(B)+P(A|B')xP(B') formülü ile hesaplanarak sonuç bulunur.\n",
        "\n",
        "\n",
        "\n"
      ]
    },
    {
      "cell_type": "code",
      "metadata": {
        "id": "aQS6R-fzZ4Qp",
        "outputId": "52e80a08-3ec3-4451-dba6-f85bdcc247d2",
        "colab": {
          "base_uri": "https://localhost:8080/"
        }
      },
      "source": [
        "\n",
        "\n",
        "def bayesTeoremi(a,b,c):\n",
        "\n",
        "    pAb1=float(a)       # P(A|B): Yangın çıkması durumunda alarmın çalışma olasılığı\n",
        "    \n",
        "    pB1=float(c)        # P(B): Yangın çıkma olasılığı\n",
        "\n",
        "    pB2=float(1-pB1)    # P(B'): Yangın çıkmama olasılığı\n",
        "\n",
        "    pAb2=float(b)       # P(A'|B'): Yangın çıkmaması durumunda alarmın çalışmama olasılığı\n",
        "\n",
        "    pAb3=float(1-pAb2)  # P(A|B'): Yangın çıkmama durumunda alarmın çalışma olasılığı\n",
        "    \n",
        "    s1=float(pAb1*pB1)  # P(A|B)*P(B): Yangın çıktığında alarmın çalışması durumu\n",
        "\n",
        "    s2= float((pAb1*pB1)+(pAb3*pB2)) # P(A|B)*P(B)+P(A|B')*P(B'): Alarmın çalışması durumu\n",
        "\n",
        "    return float(s1/s2)\n",
        "\n",
        "\n",
        "print(\"P(B) = 0.003, P(B') = 0.997, P(A | B) = 0.99, P(A' | B') = 0.98, P(A | B') = 0.02 \\n\")\n",
        "print(\"Yangın çıktığında alarmın çalışması,   P(A|B)*P(B): 0.99*0.003= 0.00297 \\n\")\n",
        "print(\"Alarmın çalışması,        P(A|B)*P(B)+P(A|B')*P(B'): 0.99*0.003+0.02*0.997= 0.02291 \\n\")\n",
        "print(\"Alarm çalıştığında yangın olma olasılığı,   P(B|A)= P(A|B)*P(B) / P(A|B)*P(B)+P(A|B')*P(B')= \", bayesTeoremi(0.99,0.98,0.003))"
      ],
      "execution_count": null,
      "outputs": [
        {
          "output_type": "stream",
          "name": "stdout",
          "text": [
            "P(B) = 0.003, P(B') = 0.997, P(A | B) = 0.99, P(A' | B') = 0.98, P(A | B') = 0.02 \n",
            "\n",
            "Yangın çıktığında alarmın çalışması,   P(A|B)*P(B): 0.99*0.003= 0.00297 \n",
            "\n",
            "Alarmın çalışması,        P(A|B)*P(B)+P(A|B')*P(B'): 0.99*0.003+0.02*0.997= 0.02291 \n",
            "\n",
            "Alarm çalıştığında yangın olma olasılığı,   P(B|A)= P(A|B)*P(B) / P(A|B)*P(B)+P(A|B')*P(B')=  0.12963771278917494\n"
          ]
        }
      ]
    }
  ]
}