{
  "nbformat": 4,
  "nbformat_minor": 0,
  "metadata": {
    "colab": {
      "name": "Guvercin-Yuvasi-Odev-1.ipynb",
      "provenance": [],
      "collapsed_sections": [],
      "include_colab_link": true
    },
    "kernelspec": {
      "name": "python3",
      "display_name": "Python 3"
    }
  },
  "cells": [
    {
      "cell_type": "markdown",
      "metadata": {
        "id": "view-in-github",
        "colab_type": "text"
      },
      "source": [
        "<a href=\"https://colab.research.google.com/github/Eyyupguzel/AyrikSistemlerIcinIleriOlasilik/blob/main/Guvercin_Yuvasi_Odev_1.ipynb\" target=\"_parent\"><img src=\"https://colab.research.google.com/assets/colab-badge.svg\" alt=\"Open In Colab\"/></a>"
      ]
    },
    {
      "cell_type": "markdown",
      "metadata": {
        "id": "B_0U7s4x_D3B"
      },
      "source": [
        "\n",
        "## Güvercin Yuvası Prensibi\n",
        "\n",
        "\n",
        "\n",
        "**Soru:**\n",
        "\n",
        "Bir kampüste 18 adet oturma salonu bulunmaktadır. Öğrenci dekanı, bir salondaki  bilgisayar kullanımını anlamak için anket yapmak amacıyla seçeceği salondan 5 kişilik öğrenci komitesi oluşturmak ister ve salonlara duyurular asar. En az kaç kişi bu ankete cevap vermelidir ki, dekan bir salon seçip komite oluşturabilsin.\n",
        "\n",
        "**Çözüm:**\n",
        "\n",
        "k=4\n",
        "\n",
        "n=18\n",
        "\n",
        "k.n+1 = 4.18 +1= 73 kişi ankete cevap vermelidir.\n",
        "\n",
        "**Açıklama:**\n",
        "\n",
        "Güvercin Yuvası Prensibi: G güvercin sayısı, Y yuva saysısı olmak üzere en az bir yuvada ceil(G/Y) sayıda güvercin bulunur. Prensibi genelleştirirsek; eğer GxY+1 veya daha fazla güvercin, G yuvaya konulacaksa, en az bir yuvada Y' dan fazla güvercin olacaktır.\n",
        "\n",
        "Soruda genel güvercin yuvası prensibi gereği, k=4 olur. Prensibin genelleştirilmiş haline göre k.n+1 = 4.18 +1= 73 cevabına ulaşılır."
      ]
    },
    {
      "cell_type": "code",
      "metadata": {
        "id": "0icPizlNc_68",
        "outputId": "16b72ff2-d6c4-4ad8-9646-a0c0a86ddfb0",
        "colab": {
          "base_uri": "https://localhost:8080/"
        }
      },
      "source": [
        "\n",
        "\n",
        "import math\n",
        "\n",
        "def pigeonhole(O,y):\n",
        "  \n",
        "  k= math.ceil(O/y) # Güvercin Yasası Prensibine göre k hesaplanır.\n",
        "  \n",
        "  g=k*O+1 #Güvercin Yasası Prensibinin genelleştirilmiş haline göre işlem yapılır ve sonuç bulunur.\n",
        "  \n",
        "  return g\n",
        "\n",
        "sonuc=pigeonhole(18,5)\n",
        "print(\"Ankete cevap verecek kişi sayısı en az: \",sonuc)\n",
        "\n"
      ],
      "execution_count": null,
      "outputs": [
        {
          "output_type": "stream",
          "name": "stdout",
          "text": [
            "Ankete cevap verecek kişi sayısı en az:  73\n"
          ]
        }
      ]
    }
  ]
}