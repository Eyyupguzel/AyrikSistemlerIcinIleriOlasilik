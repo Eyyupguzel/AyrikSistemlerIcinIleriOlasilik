{
  "nbformat": 4,
  "nbformat_minor": 0,
  "metadata": {
    "colab": {
      "name": "Temel_Olasilik_Odev_3.ipynb",
      "provenance": [],
      "collapsed_sections": [],
      "include_colab_link": true
    },
    "kernelspec": {
      "name": "python3",
      "display_name": "Python 3"
    }
  },
  "cells": [
    {
      "cell_type": "markdown",
      "metadata": {
        "id": "view-in-github",
        "colab_type": "text"
      },
      "source": [
        "<a href=\"https://colab.research.google.com/github/Eyyupguzel/AyrikSistemlerIcinIleriOlasilik/blob/main/Temel_Olasilik_Odev_3.ipynb\" target=\"_parent\"><img src=\"https://colab.research.google.com/assets/colab-badge.svg\" alt=\"Open In Colab\"/></a>"
      ]
    },
    {
      "cell_type": "markdown",
      "metadata": {
        "id": "B_0U7s4x_D3B"
      },
      "source": [
        "\n",
        "## Temel Olasılık Örneği\n",
        "\n",
        "\n",
        "\n",
        "**Soru:**\n",
        "\n",
        "Hilesiz bir zarın bir defa atılması deneyinde;\n",
        "\n",
        "A= Zarın 1 gelmesi\n",
        "B= Zarın çift sayı gelmesi\n",
        "C= Gelen sayının 3'ten büyük olması\n",
        "\n",
        "Olayları  tanımlansın.A,B ve C olayının meydana gelme olasılıklarını hesaplayınız.\n",
        "\n",
        "\n",
        "**Çözüm:**\n",
        "\n",
        "S={1,2,3,4,5,6} ve n(S)=6\n",
        "\n",
        "A={1} ve n(A)=1 olduğundan\n",
        "\n",
        "B={2,4,6} ve n(B)=3 olduğundan\n",
        "\n",
        "C={4,5,6} ve n(C)=3 olduğundan\n",
        "\n",
        "\n",
        "![My Image](https://github.com/Eyyupguzel/AyrikSistemlerIcinIleriOlasilik/blob/main/Capture6.PNG?raw=true)\n",
        "\n",
        "\n",
        "\n",
        "P(A)=n(A)/n(s)= 1/6\n",
        "\n",
        "P(B)=n(B)/n(S)=3/6\n",
        "\n",
        "P(C)=n(C)=n(S)=3/6\n",
        "\n"
      ]
    },
    {
      "cell_type": "code",
      "source": [
        "from  fractions import Fraction\n",
        "import random\n",
        "\n",
        "S={1,2,3,4,5,6}\n",
        "A={1}\n",
        "B={2,4,6}\n",
        "C={4,5,6}\n",
        "\n",
        "nS=len(S)\n",
        "nA=len(A)\n",
        "nB=len(B)\n",
        "nC=len(C)\n",
        "\n",
        "def P_A():\n",
        "  print(\"\\n P(A)=\",PA)\n",
        "PA=Fraction(nA,nS)\n",
        "P_A()\n",
        "\n",
        "def P_B():\n",
        "  print(\"\\n P(B)=\",PB)\n",
        "PB=Fraction(nB,nS)\n",
        "P_B()\n",
        "\n",
        "def P_C():\n",
        "  print(\"\\n P(A)=\",PC)\n",
        "PC=Fraction(nC,nS)\n",
        "P_C()"
      ],
      "metadata": {
        "colab": {
          "base_uri": "https://localhost:8080/"
        },
        "id": "b0XSw5-DxcNi",
        "outputId": "826306fe-2af5-45b6-be3e-104f2db3bb64"
      },
      "execution_count": null,
      "outputs": [
        {
          "output_type": "stream",
          "name": "stdout",
          "text": [
            "\n",
            " P(A)= 1/6\n",
            "\n",
            " P(B)= 1/2\n",
            "\n",
            " P(A)= 1/2\n"
          ]
        }
      ]
    },
    {
      "cell_type": "code",
      "source": [
        ""
      ],
      "metadata": {
        "id": "OPyoaHGTzboh"
      },
      "execution_count": null,
      "outputs": []
    }
  ]
}