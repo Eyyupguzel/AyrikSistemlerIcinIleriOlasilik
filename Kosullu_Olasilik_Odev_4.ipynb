{
  "nbformat": 4,
  "nbformat_minor": 0,
  "metadata": {
    "colab": {
      "name": "Kosullu_Olasilik_Odev_4.ipynb",
      "provenance": [],
      "collapsed_sections": [],
      "include_colab_link": true
    },
    "kernelspec": {
      "name": "python3",
      "display_name": "Python 3"
    }
  },
  "cells": [
    {
      "cell_type": "markdown",
      "metadata": {
        "id": "view-in-github",
        "colab_type": "text"
      },
      "source": [
        "<a href=\"https://colab.research.google.com/github/Eyyupguzel/AyrikSistemlerIcinIleriOlasilik/blob/main/Kosullu_Olasilik_Odev_4.ipynb\" target=\"_parent\"><img src=\"https://colab.research.google.com/assets/colab-badge.svg\" alt=\"Open In Colab\"/></a>"
      ]
    },
    {
      "cell_type": "markdown",
      "metadata": {
        "id": "B_0U7s4x_D3B"
      },
      "source": [
        "\n",
        "## Koşullu Olasılık Örneği\n",
        "\n",
        "\n",
        "\n",
        "**Soru:**\n",
        "\n",
        "Bir torbadaki 20 bilyeden, 5'i sarı, 6'sı yeşil ve 9'u mavidir.\n",
        "\n",
        "Bu torbadan aynı anda iki bilye seçiliyor.Seçilen bilyelerin ikisinin de farklı renk olduğu bilindiğine göre, birinin sarı, diğerinin mavi olma olasılığı kaçtır?\n",
        "\n",
        "\n",
        "**Çözüm:**\n",
        "\n",
        "B={Seçilen  iki bilyenin farklı renk olma olayı}\n",
        "\n",
        "\n",
        "\n",
        "![My Image](https://github.com/Eyyupguzel/AyrikSistemlerIcinIleriOlasilik/blob/main/Capture2.PNG?raw=true)\n",
        "\n",
        "\n",
        "A={Seçilen  bilyeden birinin sarı, diğerinin mavi olması olayı}\n",
        "\n",
        "![My Image](https://github.com/Eyyupguzel/AyrikSistemlerIcinIleriOlasilik/blob/main/Capture3.PNG?raw=true)\n",
        "\n",
        "A kümesini oluşturan elemanlar aynı zamanda B kümesinin de elemanı olduğundan\n",
        "\n",
        "\n",
        "![My Image](https://github.com/Eyyupguzel/AyrikSistemlerIcinIleriOlasilik/blob/main/Capture4.PNG?raw=true)"
      ]
    },
    {
      "cell_type": "code",
      "source": [
        "\n",
        "from math import factorial\n",
        "from fractions import Fraction\n",
        "import numpy as np\n",
        "import random\n",
        "\n",
        "N= 20    #Toplam bilye sayısı\n",
        "n_S= 5   # n(S) Sarı renkli bilye sayısı\n",
        "n_Y= 6  # n(Y) Yeşil renkli bilye sayısı\n",
        "n_M= 9  # n(yk) Mavi renkli bilye sayısı\n",
        "\n",
        "#B={Seçilen iki bilyenin farklı renk olma olayı}\n",
        "def P_B():\n",
        "    print(\"\\n  S(B)=\", SB)\n",
        "SB=Fraction(n_S,1)*Fraction(n_Y,1)+Fraction(n_S,1)*Fraction(n_M,1)+Fraction(n_Y,1)*Fraction(n_M,1)\n",
        "P_B()\n",
        "\n",
        "#A={Seçilen bilyeden birinin sarı, diğerinin mavi olması olayı}\n",
        "def P_A():\n",
        "    print(\"\\n  S(A)=\",SA)\n",
        "SA=Fraction(n_S,1)*Fraction(n_M)\n",
        "P_A()\n",
        "\n",
        "#A kümesini oluşturan elemanlar aynı zamanda B kümesinin de elemanı olduğundan\n",
        "def P_A_B():\n",
        "  print(\"\\n P(A/B)=\", P_AIB)\n",
        "S_A_kesisim_B=45  # P(A∩B)=45\n",
        "P_AIB=Fraction(S_A_kesisim_B,SB)\n",
        "P_A_B()\n",
        "\n"
      ],
      "metadata": {
        "colab": {
          "base_uri": "https://localhost:8080/"
        },
        "id": "33o97IkAScAT",
        "outputId": "8ed833b3-489b-4463-90b4-64ed5bd92a31"
      },
      "execution_count": null,
      "outputs": [
        {
          "output_type": "stream",
          "name": "stdout",
          "text": [
            "\n",
            "  S(B)= 129\n",
            "\n",
            "  S(A)= 45\n",
            "\n",
            " P(A/B= 15/43\n"
          ]
        }
      ]
    }
  ]
}